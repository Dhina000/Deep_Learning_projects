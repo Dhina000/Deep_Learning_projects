{
  "nbformat": 4,
  "nbformat_minor": 0,
  "metadata": {
    "colab": {
      "provenance": [],
      "authorship_tag": "ABX9TyPX64ZPnsxAtElu3B06RUk+",
      "include_colab_link": true
    },
    "kernelspec": {
      "name": "python3",
      "display_name": "Python 3"
    },
    "language_info": {
      "name": "python"
    }
  },
  "cells": [
    {
      "cell_type": "markdown",
      "metadata": {
        "id": "view-in-github",
        "colab_type": "text"
      },
      "source": [
        "<a href=\"https://colab.research.google.com/github/Dhina000/Deep_Learning_projects/blob/main/Electricity_unit_prediction_using_ANN.ipynb\" target=\"_parent\"><img src=\"https://colab.research.google.com/assets/colab-badge.svg\" alt=\"Open In Colab\"/></a>"
      ]
    },
    {
      "cell_type": "markdown",
      "source": [
        "# Importing the libraries"
      ],
      "metadata": {
        "id": "WQ8pNOmeW16r"
      }
    },
    {
      "cell_type": "code",
      "source": [
        "import numpy as np\n",
        "import pandas as pd\n",
        "import tensorflow as tf"
      ],
      "metadata": {
        "id": "98Pud8ENXDbU"
      },
      "execution_count": 1,
      "outputs": []
    },
    {
      "cell_type": "code",
      "source": [
        "tf.__version__"
      ],
      "metadata": {
        "colab": {
          "base_uri": "https://localhost:8080/",
          "height": 36
        },
        "id": "OXqIcQxZXR-b",
        "outputId": "fa1024a5-c47f-4d7d-b1f4-bcf831449c18"
      },
      "execution_count": 2,
      "outputs": [
        {
          "output_type": "execute_result",
          "data": {
            "text/plain": [
              "'2.15.0'"
            ],
            "application/vnd.google.colaboratory.intrinsic+json": {
              "type": "string"
            }
          },
          "metadata": {},
          "execution_count": 2
        }
      ]
    },
    {
      "cell_type": "markdown",
      "source": [
        "# Data preprocessing"
      ],
      "metadata": {
        "id": "Rn8kr8JwXZBk"
      }
    },
    {
      "cell_type": "code",
      "source": [
        "dataset = pd.read_excel('Folds5x2_pp.xlsx')\n",
        "X = dataset.iloc[:, :-1].values\n",
        "y = dataset.iloc[:, -1].values"
      ],
      "metadata": {
        "id": "nvQCaVmIXqh5"
      },
      "execution_count": 3,
      "outputs": []
    },
    {
      "cell_type": "markdown",
      "source": [
        "# Splitting the dataset into Training set and test set"
      ],
      "metadata": {
        "id": "hNIDknh9YCtE"
      }
    },
    {
      "cell_type": "code",
      "source": [
        "from sklearn.model_selection import train_test_split\n",
        "X_train,X_test,y_train,y_test = train_test_split(X,y,test_size = 0.2,random_state = 0)"
      ],
      "metadata": {
        "id": "hRIo2cSqYH7K"
      },
      "execution_count": 4,
      "outputs": []
    },
    {
      "cell_type": "markdown",
      "source": [
        "# Building The ANN"
      ],
      "metadata": {
        "id": "lbW1Vz10Yk1c"
      }
    },
    {
      "cell_type": "code",
      "source": [
        "ann = tf.keras.Sequential()"
      ],
      "metadata": {
        "id": "P4f7GCyuYntw"
      },
      "execution_count": 5,
      "outputs": []
    },
    {
      "cell_type": "markdown",
      "source": [
        "# Adding the input layer and the first Hidden layer"
      ],
      "metadata": {
        "id": "vJOjJbCHYte1"
      }
    },
    {
      "cell_type": "code",
      "source": [
        "ann.add(tf.keras.layers.Dense(units = 6,activation ='relu'))"
      ],
      "metadata": {
        "id": "GxyjLzTYYssg"
      },
      "execution_count": 7,
      "outputs": []
    },
    {
      "cell_type": "markdown",
      "source": [
        "# Adding the second hidden layer"
      ],
      "metadata": {
        "id": "jUEBvbaIZGEC"
      }
    },
    {
      "cell_type": "code",
      "source": [
        "ann.add(tf.keras.layers.Dense(units=6 ,activation = 'relu' ))"
      ],
      "metadata": {
        "id": "eS7EdYe_Zk3U"
      },
      "execution_count": 9,
      "outputs": []
    },
    {
      "cell_type": "markdown",
      "source": [
        "# Adding the output layer"
      ],
      "metadata": {
        "id": "BOoTy6ApZf7L"
      }
    },
    {
      "cell_type": "code",
      "source": [
        "ann.add(tf.keras.layers.Dense(units=1))"
      ],
      "metadata": {
        "id": "LzBfelfvZKN6"
      },
      "execution_count": 10,
      "outputs": []
    },
    {
      "cell_type": "markdown",
      "source": [
        "# Training the ANN"
      ],
      "metadata": {
        "id": "KH57Xz_-Zri0"
      }
    },
    {
      "cell_type": "markdown",
      "source": [
        "# compile the ANN"
      ],
      "metadata": {
        "id": "gKTeQr0pZxtH"
      }
    },
    {
      "cell_type": "code",
      "source": [
        "ann.compile(optimizer = 'adam',loss = 'mean_squared_error')"
      ],
      "metadata": {
        "id": "Y11AaXI9ZfHF"
      },
      "execution_count": 11,
      "outputs": []
    },
    {
      "cell_type": "markdown",
      "source": [
        "# Training the ANN model on the Training set"
      ],
      "metadata": {
        "id": "8gUMOk-NZ-jJ"
      }
    },
    {
      "cell_type": "code",
      "source": [
        "ann.fit(X_train, y_train, batch_size = 32, epochs = 100)"
      ],
      "metadata": {
        "colab": {
          "base_uri": "https://localhost:8080/"
        },
        "id": "CaOWzDAPZwvl",
        "outputId": "9c5d2e14-df3c-4284-9083-dc557535d386"
      },
      "execution_count": 12,
      "outputs": [
        {
          "output_type": "stream",
          "name": "stdout",
          "text": [
            "Epoch 1/100\n",
            "240/240 [==============================] - 1s 1ms/step - loss: 31796.0918\n",
            "Epoch 2/100\n",
            "240/240 [==============================] - 0s 1ms/step - loss: 287.7318\n",
            "Epoch 3/100\n",
            "240/240 [==============================] - 0s 1ms/step - loss: 275.2285\n",
            "Epoch 4/100\n",
            "240/240 [==============================] - 0s 1ms/step - loss: 259.8505\n",
            "Epoch 5/100\n",
            "240/240 [==============================] - 0s 1ms/step - loss: 241.7391\n",
            "Epoch 6/100\n",
            "240/240 [==============================] - 0s 1ms/step - loss: 221.2426\n",
            "Epoch 7/100\n",
            "240/240 [==============================] - 0s 1ms/step - loss: 199.5947\n",
            "Epoch 8/100\n",
            "240/240 [==============================] - 0s 1ms/step - loss: 176.1928\n",
            "Epoch 9/100\n",
            "240/240 [==============================] - 0s 1ms/step - loss: 152.8752\n",
            "Epoch 10/100\n",
            "240/240 [==============================] - 0s 1ms/step - loss: 130.1662\n",
            "Epoch 11/100\n",
            "240/240 [==============================] - 0s 1ms/step - loss: 108.3694\n",
            "Epoch 12/100\n",
            "240/240 [==============================] - 0s 1ms/step - loss: 89.5260\n",
            "Epoch 13/100\n",
            "240/240 [==============================] - 0s 2ms/step - loss: 73.7238\n",
            "Epoch 14/100\n",
            "240/240 [==============================] - 0s 1ms/step - loss: 61.9271\n",
            "Epoch 15/100\n",
            "240/240 [==============================] - 0s 1ms/step - loss: 53.7318\n",
            "Epoch 16/100\n",
            "240/240 [==============================] - 0s 1ms/step - loss: 48.2330\n",
            "Epoch 17/100\n",
            "240/240 [==============================] - 0s 1ms/step - loss: 44.9557\n",
            "Epoch 18/100\n",
            "240/240 [==============================] - 0s 1ms/step - loss: 42.6587\n",
            "Epoch 19/100\n",
            "240/240 [==============================] - 0s 1ms/step - loss: 40.9680\n",
            "Epoch 20/100\n",
            "240/240 [==============================] - 0s 1ms/step - loss: 39.6157\n",
            "Epoch 21/100\n",
            "240/240 [==============================] - 0s 1ms/step - loss: 38.4198\n",
            "Epoch 22/100\n",
            "240/240 [==============================] - 0s 1ms/step - loss: 37.3264\n",
            "Epoch 23/100\n",
            "240/240 [==============================] - 0s 2ms/step - loss: 36.3124\n",
            "Epoch 24/100\n",
            "240/240 [==============================] - 0s 1ms/step - loss: 35.9754\n",
            "Epoch 25/100\n",
            "240/240 [==============================] - 0s 1ms/step - loss: 34.4640\n",
            "Epoch 26/100\n",
            "240/240 [==============================] - 0s 2ms/step - loss: 34.1093\n",
            "Epoch 27/100\n",
            "240/240 [==============================] - 0s 1ms/step - loss: 33.2278\n",
            "Epoch 28/100\n",
            "240/240 [==============================] - 0s 1ms/step - loss: 32.6379\n",
            "Epoch 29/100\n",
            "240/240 [==============================] - 0s 1ms/step - loss: 31.9255\n",
            "Epoch 30/100\n",
            "240/240 [==============================] - 0s 1ms/step - loss: 31.2223\n",
            "Epoch 31/100\n",
            "240/240 [==============================] - 0s 1ms/step - loss: 30.9937\n",
            "Epoch 32/100\n",
            "240/240 [==============================] - 0s 1ms/step - loss: 30.6366\n",
            "Epoch 33/100\n",
            "240/240 [==============================] - 0s 1ms/step - loss: 29.9161\n",
            "Epoch 34/100\n",
            "240/240 [==============================] - 0s 1ms/step - loss: 30.0568\n",
            "Epoch 35/100\n",
            "240/240 [==============================] - 0s 1ms/step - loss: 29.4179\n",
            "Epoch 36/100\n",
            "240/240 [==============================] - 0s 1ms/step - loss: 29.9928\n",
            "Epoch 37/100\n",
            "240/240 [==============================] - 0s 1ms/step - loss: 28.4644\n",
            "Epoch 38/100\n",
            "240/240 [==============================] - 0s 1ms/step - loss: 28.5575\n",
            "Epoch 39/100\n",
            "240/240 [==============================] - 0s 1ms/step - loss: 28.6692\n",
            "Epoch 40/100\n",
            "240/240 [==============================] - 0s 1ms/step - loss: 28.8244\n",
            "Epoch 41/100\n",
            "240/240 [==============================] - 0s 1ms/step - loss: 27.9721\n",
            "Epoch 42/100\n",
            "240/240 [==============================] - 0s 1ms/step - loss: 28.0705\n",
            "Epoch 43/100\n",
            "240/240 [==============================] - 0s 1ms/step - loss: 27.3324\n",
            "Epoch 44/100\n",
            "240/240 [==============================] - 0s 1ms/step - loss: 28.4407\n",
            "Epoch 45/100\n",
            "240/240 [==============================] - 0s 1ms/step - loss: 27.3742\n",
            "Epoch 46/100\n",
            "240/240 [==============================] - 0s 1ms/step - loss: 27.5778\n",
            "Epoch 47/100\n",
            "240/240 [==============================] - 0s 1ms/step - loss: 27.2256\n",
            "Epoch 48/100\n",
            "240/240 [==============================] - 0s 1ms/step - loss: 27.4433\n",
            "Epoch 49/100\n",
            "240/240 [==============================] - 0s 1ms/step - loss: 27.9255\n",
            "Epoch 50/100\n",
            "240/240 [==============================] - 0s 1ms/step - loss: 27.9127\n",
            "Epoch 51/100\n",
            "240/240 [==============================] - 0s 1ms/step - loss: 27.3315\n",
            "Epoch 52/100\n",
            "240/240 [==============================] - 0s 1ms/step - loss: 26.8920\n",
            "Epoch 53/100\n",
            "240/240 [==============================] - 0s 1ms/step - loss: 27.0658\n",
            "Epoch 54/100\n",
            "240/240 [==============================] - 0s 1ms/step - loss: 27.4867\n",
            "Epoch 55/100\n",
            "240/240 [==============================] - 0s 1ms/step - loss: 27.1687\n",
            "Epoch 56/100\n",
            "240/240 [==============================] - 0s 1ms/step - loss: 27.5144\n",
            "Epoch 57/100\n",
            "240/240 [==============================] - 0s 1ms/step - loss: 26.9279\n",
            "Epoch 58/100\n",
            "240/240 [==============================] - 0s 1ms/step - loss: 27.0265\n",
            "Epoch 59/100\n",
            "240/240 [==============================] - 0s 1ms/step - loss: 27.3833\n",
            "Epoch 60/100\n",
            "240/240 [==============================] - 0s 1ms/step - loss: 27.0756\n",
            "Epoch 61/100\n",
            "240/240 [==============================] - 0s 1ms/step - loss: 28.3541\n",
            "Epoch 62/100\n",
            "240/240 [==============================] - 0s 1ms/step - loss: 27.5123\n",
            "Epoch 63/100\n",
            "240/240 [==============================] - 0s 1ms/step - loss: 27.6364\n",
            "Epoch 64/100\n",
            "240/240 [==============================] - 0s 1ms/step - loss: 27.2116\n",
            "Epoch 65/100\n",
            "240/240 [==============================] - 0s 1ms/step - loss: 27.6155\n",
            "Epoch 66/100\n",
            "240/240 [==============================] - 0s 2ms/step - loss: 26.7505\n",
            "Epoch 67/100\n",
            "240/240 [==============================] - 0s 2ms/step - loss: 27.0880\n",
            "Epoch 68/100\n",
            "240/240 [==============================] - 0s 1ms/step - loss: 27.3330\n",
            "Epoch 69/100\n",
            "240/240 [==============================] - 0s 1ms/step - loss: 27.3676\n",
            "Epoch 70/100\n",
            "240/240 [==============================] - 0s 1ms/step - loss: 27.0375\n",
            "Epoch 71/100\n",
            "240/240 [==============================] - 0s 1ms/step - loss: 26.5505\n",
            "Epoch 72/100\n",
            "240/240 [==============================] - 0s 1ms/step - loss: 27.3043\n",
            "Epoch 73/100\n",
            "240/240 [==============================] - 0s 1ms/step - loss: 27.7649\n",
            "Epoch 74/100\n",
            "240/240 [==============================] - 0s 1ms/step - loss: 27.4046\n",
            "Epoch 75/100\n",
            "240/240 [==============================] - 0s 1ms/step - loss: 27.0272\n",
            "Epoch 76/100\n",
            "240/240 [==============================] - 0s 1ms/step - loss: 26.8264\n",
            "Epoch 77/100\n",
            "240/240 [==============================] - 0s 1ms/step - loss: 26.9562\n",
            "Epoch 78/100\n",
            "240/240 [==============================] - 0s 1ms/step - loss: 26.7579\n",
            "Epoch 79/100\n",
            "240/240 [==============================] - 0s 1ms/step - loss: 27.3037\n",
            "Epoch 80/100\n",
            "240/240 [==============================] - 0s 1ms/step - loss: 26.7376\n",
            "Epoch 81/100\n",
            "240/240 [==============================] - 0s 1ms/step - loss: 27.7519\n",
            "Epoch 82/100\n",
            "240/240 [==============================] - 0s 1ms/step - loss: 27.3395\n",
            "Epoch 83/100\n",
            "240/240 [==============================] - 0s 1ms/step - loss: 27.5009\n",
            "Epoch 84/100\n",
            "240/240 [==============================] - 0s 1ms/step - loss: 26.5186\n",
            "Epoch 85/100\n",
            "240/240 [==============================] - 0s 1ms/step - loss: 27.4961\n",
            "Epoch 86/100\n",
            "240/240 [==============================] - 0s 1ms/step - loss: 26.7664\n",
            "Epoch 87/100\n",
            "240/240 [==============================] - 0s 1ms/step - loss: 26.7987\n",
            "Epoch 88/100\n",
            "240/240 [==============================] - 0s 1ms/step - loss: 26.9802\n",
            "Epoch 89/100\n",
            "240/240 [==============================] - 0s 1ms/step - loss: 26.8362\n",
            "Epoch 90/100\n",
            "240/240 [==============================] - 0s 1ms/step - loss: 27.2536\n",
            "Epoch 91/100\n",
            "240/240 [==============================] - 0s 1ms/step - loss: 26.3371\n",
            "Epoch 92/100\n",
            "240/240 [==============================] - 0s 1ms/step - loss: 27.0943\n",
            "Epoch 93/100\n",
            "240/240 [==============================] - 0s 1ms/step - loss: 27.6572\n",
            "Epoch 94/100\n",
            "240/240 [==============================] - 0s 1ms/step - loss: 26.6245\n",
            "Epoch 95/100\n",
            "240/240 [==============================] - 0s 1ms/step - loss: 26.6906\n",
            "Epoch 96/100\n",
            "240/240 [==============================] - 0s 1ms/step - loss: 27.3587\n",
            "Epoch 97/100\n",
            "240/240 [==============================] - 0s 1ms/step - loss: 26.9804\n",
            "Epoch 98/100\n",
            "240/240 [==============================] - 0s 1ms/step - loss: 26.8480\n",
            "Epoch 99/100\n",
            "240/240 [==============================] - 0s 1ms/step - loss: 26.9548\n",
            "Epoch 100/100\n",
            "240/240 [==============================] - 0s 1ms/step - loss: 26.9723\n"
          ]
        },
        {
          "output_type": "execute_result",
          "data": {
            "text/plain": [
              "<keras.src.callbacks.History at 0x7b90603a9ab0>"
            ]
          },
          "metadata": {},
          "execution_count": 12
        }
      ]
    },
    {
      "cell_type": "markdown",
      "source": [
        "# Predicting the results of the test set"
      ],
      "metadata": {
        "id": "X6Jdpw0xaecJ"
      }
    },
    {
      "cell_type": "code",
      "source": [
        "y_pred = ann.predict(X_test)\n",
        "np.set_printoptions(precision=2)\n",
        "print(np.concatenate((y_pred.reshape(len(y_pred),1), y_test.reshape(len(y_test),1)),1))"
      ],
      "metadata": {
        "colab": {
          "base_uri": "https://localhost:8080/"
        },
        "id": "BziRo6qKaixF",
        "outputId": "2fcb1acd-d0ce-4f43-e59e-239b7cb09d19"
      },
      "execution_count": 13,
      "outputs": [
        {
          "output_type": "stream",
          "name": "stdout",
          "text": [
            "60/60 [==============================] - 0s 932us/step\n",
            "[[431.29 431.23]\n",
            " [462.45 460.01]\n",
            " [465.98 461.14]\n",
            " ...\n",
            " [473.21 473.26]\n",
            " [439.9  438.  ]\n",
            " [459.18 463.28]]\n"
          ]
        }
      ]
    }
  ]
}